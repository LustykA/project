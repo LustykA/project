{
 "cells": [
  {
   "cell_type": "code",
   "execution_count": 51,
   "id": "688270ae",
   "metadata": {},
   "outputs": [
    {
     "data": {
      "text/plain": [
       "['model.pkl']"
      ]
     },
     "execution_count": 51,
     "metadata": {},
     "output_type": "execute_result"
    }
   ],
   "source": [
    "#budowa modelu i zapisanie go \n",
    "\n",
    "\n",
    "'''\n",
    "import pandas as pd\n",
    "data = pd.read_csv('/Users/magdalenaolbrys/Desktop/model RTA/SeoulBikeData.csv', encoding='cp1252')\n",
    "\n",
    "df_train = data.iloc[:800].dropna()\n",
    "df_test = data.iloc[800:1000].dropna()\n",
    "\n",
    "\n",
    "X_train = df_train.drop(columns=['Rented Bike Count', 'Date', 'Seasons', 'Holiday', 'Functioning Day'])\n",
    "y_train = df_train['Rented Bike Count']\n",
    "\n",
    "\n",
    "X_test = df_test.drop(columns=['Rented Bike Count', 'Date', 'Seasons', 'Holiday', 'Functioning Day'])\n",
    "y_test = df_test['Rented Bike Count']\n",
    "\n",
    "best_params = {'max_depth': None, 'min_samples_split': 2, 'n_estimators': 200}\n",
    "model = RandomForestRegressor(**best_params)\n",
    "model.fit(X_train, y_train)\n",
    "y_pred = model.predict(X_test)\n",
    "import joblib\n",
    "joblib.dump(model, 'model.pkl')\n",
    "'''\n"
   ]
  },
  {
   "cell_type": "code",
   "execution_count": 52,
   "id": "43bbda5a",
   "metadata": {},
   "outputs": [],
   "source": [
    "#funkcja do wczytania modelu\n",
    "# ZMIENIC SCIEZKE NA SCIEZKE DO MODEL.PKL\n",
    "\n",
    "import joblib\n",
    "import numpy as np\n",
    "import pandas as pd\n",
    "\n",
    "\n",
    "def predict_bike_rentals(hour, temperature, humidity, wind_speed, visibility, dew_point_temp, solar_radiation, rainfall, snowfall, model_path='random_forest_model.pkl'):\n",
    "    \n",
    "    features = pd.DataFrame({\n",
    "            'Hour': [hour],\n",
    "            'Temperature(°C)': [temperature],\n",
    "            'Humidity(%)': [humidity],\n",
    "            'Wind speed (m/s)': [wind_speed],\n",
    "            'Visibility (10m)': [visibility],\n",
    "            'Dew point temperature(°C)': [dew_point_temp],\n",
    "            'Solar Radiation (MJ/m2)': [solar_radiation],\n",
    "            'Rainfall(mm)': [rainfall],\n",
    "            'Snowfall (cm)': [snowfall]\n",
    "        })\n",
    "\n",
    "    with open('/Users/magdalenaolbrys/Desktop/model RTA/model.pkl', 'rb') as file:\n",
    "        model1 = joblib.load(file)\n",
    "\n",
    "    \n",
    "        prediction = model1.predict(features)\n",
    "    \n",
    "    return round(prediction[0])"
   ]
  },
  {
   "cell_type": "code",
   "execution_count": 53,
   "id": "74215426",
   "metadata": {},
   "outputs": [
    {
     "name": "stdout",
     "output_type": "stream",
     "text": [
      "Predicted Rented Bike Count: 559\n"
     ]
    }
   ],
   "source": [
    "#przewidywanie dla nowych danych \n",
    "\n",
    "predicted_rentals = predict_bike_rentals(\n",
    "    hour=14,\n",
    "    temperature=18.0,\n",
    "    humidity=50,\n",
    "    wind_speed=2.5,\n",
    "    visibility=2000,\n",
    "    dew_point_temp=10.0,\n",
    "    solar_radiation=1.5,\n",
    "    rainfall=0.1,\n",
    "    snowfall=0.1\n",
    ")\n",
    "\n",
    "print(\"Predicted Rented Bike Count:\", predicted_rentals)"
   ]
  }
 ],
 "metadata": {
  "kernelspec": {
   "display_name": "Python 3 (ipykernel)",
   "language": "python",
   "name": "python3"
  },
  "language_info": {
   "codemirror_mode": {
    "name": "ipython",
    "version": 3
   },
   "file_extension": ".py",
   "mimetype": "text/x-python",
   "name": "python",
   "nbconvert_exporter": "python",
   "pygments_lexer": "ipython3",
   "version": "3.9.13"
  }
 },
 "nbformat": 4,
 "nbformat_minor": 5
}
